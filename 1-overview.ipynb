{
 "cells": [
  {
   "cell_type": "markdown",
   "metadata": {
    "slideshow": {
     "slide_type": "slide"
    }
   },
   "source": [
    "# The Jupyterian Snake Invasion: \n",
    "### _Intro to Jupyter Notebooks, Python, Azure and Beyond_"
   ]
  },
  {
   "cell_type": "markdown",
   "metadata": {
    "slideshow": {
     "slide_type": "slide"
    }
   },
   "source": [
    "## Whats The Big Idea?\n",
    "\n",
    "> _Python And Notebooks Enable Us To Work Efficiently and Explore_"
   ]
  },
  {
   "cell_type": "markdown",
   "metadata": {
    "slideshow": {
     "slide_type": "slide"
    }
   },
   "source": [
    "## Whats a Notebook?\n",
    "Notebooks are a tool for document based code cell execution."
   ]
  },
  {
   "cell_type": "markdown",
   "metadata": {
    "slideshow": {
     "slide_type": "slide"
    }
   },
   "source": [
    "## History of Notebooks\n",
    "Document based writing software for math was the first form of the `notebook`\n",
    "- Matlab\n",
    "- Mathematica\n",
    "- Sage Math (used now in CoCalc)\n",
    "\n",
    "<img src=\"https://i.stack.imgur.com/TNiFf.png\" alt=\"Drawing\" style=\"width: 400px;\" />"
   ]
  },
  {
   "cell_type": "markdown",
   "metadata": {
    "slideshow": {
     "slide_type": "slide"
    }
   },
   "source": [
    "## Enter IPython\n",
    "<img src=\"https://upload.wikimedia.org/wikipedia/commons/3/3c/IPython_Logo.png\" alt=\"Drawing\" style=\"width: 200px;\"/>\n",
    "\n",
    "- One of First Open-Source Notebook software\n",
    "- Interactive Python Execution"
   ]
  },
  {
   "cell_type": "markdown",
   "metadata": {
    "slideshow": {
     "slide_type": "slide"
    }
   },
   "source": [
    "## IPython to Jupyter\n",
    "<img src=\"https://upload.wikimedia.org/wikipedia/commons/thumb/3/38/Jupyter_logo.svg/1200px-Jupyter_logo.svg.png\" alt=\"Drawing\" style=\"width: 100px;\"/>\n",
    "\n",
    "- One of First Open-Source Notebook software\n",
    "- Interactive Data Science and Scientific Computing"
   ]
  },
  {
   "cell_type": "markdown",
   "metadata": {
    "slideshow": {
     "slide_type": "slide"
    }
   },
   "source": [
    "# Industry Impact"
   ]
  },
  {
   "cell_type": "markdown",
   "metadata": {
    "slideshow": {
     "slide_type": "subslide"
    }
   },
   "source": [
    "## Science\n",
    "    - ELN's (electronic lab notebooks)\n",
    "    - Mathematics"
   ]
  },
  {
   "cell_type": "markdown",
   "metadata": {
    "slideshow": {
     "slide_type": "subslide"
    }
   },
   "source": [
    "## Automation\n",
    "Netflix Parameterized Notebooks [papermill](https://github.com/nteract/papermill)"
   ]
  },
  {
   "cell_type": "markdown",
   "metadata": {
    "slideshow": {
     "slide_type": "slide"
    }
   },
   "source": [
    "## Jupyter Alternatives\n",
    "- Apache Zepplin ([src](https://zeppelin.apache.org/))\n",
    "    - [Zepl](https://www.zepl.com/)\n",
    "- BeakerX ([src](http://beakerx.com/))\n",
    "- CoCalc ([src](https://cocalc.com/))\n",
    "- Observable ([src](https://observablehq.com/demo))\n",
    "- Hydrogen [src](https://atom.io/packages/hydrogen)"
   ]
  }
 ],
 "metadata": {
  "kernelspec": {
   "display_name": "Python 3",
   "language": "python",
   "name": "python3"
  },
  "language_info": {
   "codemirror_mode": {
    "name": "ipython",
    "version": 3
   },
   "file_extension": ".py",
   "mimetype": "text/x-python",
   "name": "python",
   "nbconvert_exporter": "python",
   "pygments_lexer": "ipython3",
   "version": "3.7.3"
  }
 },
 "nbformat": 4,
 "nbformat_minor": 4
}
