{
 "cells": [
  {
   "cell_type": "markdown",
   "metadata": {
    "slideshow": {
     "slide_type": "slide"
    }
   },
   "source": [
    "<center>\n",
    "    <h1><b>The Jupyterian Snake Invasion</b></h1>\n",
    "     <h3>\n",
    "        Intro to Jupyter Notebooks, Python, Azure and Beyond\n",
    "    </h3>\n",
    "    <hr>\n",
    "    <figure>\n",
    "      <img src=\"https://raw.githubusercontent.com/gboeing/lorenz-system/master/images/animated-lorenz-attractor.gif\"/>\n",
    "      <figcaption style=\"font-size: 10px\">Lorenz Attractor, by:<a href=\"https://github.com/gboeing/lorenz-system\">gboing</a>\n",
    "      </figcaption>\n",
    "    </figure> \n",
    "</center>"
   ]
  },
  {
   "cell_type": "markdown",
   "metadata": {
    "slideshow": {
     "slide_type": "slide"
    }
   },
   "source": [
    "## **Hi, I'm Robby. I try to do cool things.**\n",
    "\n",
    "## **find me on twitter [@boneyrobby](https://twitter.com/RobbyBoney?s=17) or [linkedin](https://www.linkedin.com/in/robby-boney-717486133/)**"
   ]
  },
  {
   "cell_type": "markdown",
   "metadata": {
    "slideshow": {
     "slide_type": "slide"
    }
   },
   "source": [
    "## Whats a Notebook?\n",
    "Notebooks are a tool for cell based, interactive documents\n",
    "\n",
    "- reproducibility\n",
    "- interactive code"
   ]
  },
  {
   "cell_type": "markdown",
   "metadata": {
    "slideshow": {
     "slide_type": "slide"
    }
   },
   "source": [
    "## History of Notebook\n",
    "Document based writing software for math was the first form of the `notebook`\n",
    "- Matlab\n",
    "- Mathematica\n",
    "- Sage Math (used now in CoCalc)\n",
    "\n",
    "<img src=\"https://i.stack.imgur.com/TNiFf.png\" alt=\"Drawing\" style=\"width: 400px;\" />"
   ]
  },
  {
   "cell_type": "markdown",
   "metadata": {
    "slideshow": {
     "slide_type": "slide"
    }
   },
   "source": [
    "## Enter IPython\n",
    "- One of First Open-Source Notebook software (founded 2001)\n",
    "- Interactive Python Execution\n",
    "\n",
    "<img src=\"https://www.dataschool.io/content/images/2019/03/binder-50.png\" width=\"60%\" />"
   ]
  },
  {
   "cell_type": "markdown",
   "metadata": {
    "slideshow": {
     "slide_type": "subslide"
    }
   },
   "source": [
    "## IPython to Jupyter\n",
    "<center>\n",
    "<img src=\"https://upload.wikimedia.org/wikipedia/commons/thumb/3/38/Jupyter_logo.svg/1200px-Jupyter_logo.svg.png\" alt=\"Drawing\" style=\"width: 100px;\"/>\n",
    "</center>\n",
    "> \"Project Jupyter exists to develop open-source software, open-standards, and services for interactive computing across dozens of programming languages.\" ~Jupyter.org"
   ]
  },
  {
   "cell_type": "markdown",
   "metadata": {
    "slideshow": {
     "slide_type": "slide"
    }
   },
   "source": [
    "# Let's Get Interactive!"
   ]
  }
 ],
 "metadata": {
  "celltoolbar": "Slideshow",
  "kernelspec": {
   "display_name": "Python 3",
   "language": "python",
   "name": "python3"
  },
  "language_info": {
   "codemirror_mode": {
    "name": "ipython",
    "version": 3
   },
   "file_extension": ".py",
   "mimetype": "text/x-python",
   "name": "python",
   "nbconvert_exporter": "python",
   "pygments_lexer": "ipython3",
   "version": "3.7.3"
  }
 },
 "nbformat": 4,
 "nbformat_minor": 4
}
