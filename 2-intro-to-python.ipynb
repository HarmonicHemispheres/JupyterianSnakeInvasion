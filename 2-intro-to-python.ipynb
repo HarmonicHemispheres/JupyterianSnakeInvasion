{
 "cells": [
  {
   "cell_type": "markdown",
   "metadata": {},
   "source": [
    "# Intro To Python\n"
   ]
  },
  {
   "cell_type": "code",
   "execution_count": 1,
   "metadata": {},
   "outputs": [
    {
     "name": "stdout",
     "output_type": "stream",
     "text": [
      "wello horld\n"
     ]
    }
   ],
   "source": [
    "###---------------------###\n",
    "### Printing To Console ###\n",
    "###---------------------###\n",
    "print(\"wello horld\")"
   ]
  },
  {
   "cell_type": "markdown",
   "metadata": {},
   "source": [
    "## Variables"
   ]
  },
  {
   "cell_type": "code",
   "execution_count": 24,
   "metadata": {},
   "outputs": [],
   "source": [
    "#====== Variables ======#\n",
    "# Numbers\n",
    "i = 7\n",
    "f = 6.5\n",
    "c = 5+5j\n",
    "c.real\n",
    "c.imag\n",
    "\n",
    "# Strings\n",
    "s = \"string\"\n",
    "fs = f'formated {s}'\n",
    "\n",
    "# List\n",
    "l = [1, 2, 3, \"str\"]\n",
    "l.append(1)\n",
    "l.index(1)\n",
    "l.pop()\n",
    "\n",
    "# Dictionary (aka hashtable)\n",
    "d = {\n",
    "    \"key\": \"value\", \n",
    "    \"key2\": [\"1\", 2, \"3\", 4]\n",
    "}\n",
    "d['a'] = 1\n",
    "d['b'] = 2\n",
    "d.keys()      # generator of ('a', 'b')\n",
    "d.values()    # generator of (1, 2)\n",
    "d.items()     # generator of (('a',1), ('b',2))\n",
    "del d['a']"
   ]
  },
  {
   "cell_type": "code",
   "execution_count": 4,
   "metadata": {},
   "outputs": [
    {
     "data": {
      "text/plain": [
       "49"
      ]
     },
     "execution_count": 4,
     "metadata": {},
     "output_type": "execute_result"
    }
   ],
   "source": [
    "#====== functions ======#\n",
    "def func(x):\n",
    "    return x**2\n",
    "\n",
    "func(i)"
   ]
  },
  {
   "cell_type": "code",
   "execution_count": 25,
   "metadata": {},
   "outputs": [],
   "source": [
    "#====== classes ======#\n",
    "class Car:\n",
    "    def __init__(self, mpg, gallons, maker):\n",
    "        self.mpg = mpg\n",
    "        self.gallons = gallons\n",
    "        self.maker = maker\n",
    "        \n",
    "    def max_travel(self, perc_full):\n",
    "        return self.mpg * (self.gallons * perc_full)"
   ]
  },
  {
   "cell_type": "code",
   "execution_count": 26,
   "metadata": {},
   "outputs": [
    {
     "data": {
      "text/plain": [
       "288.0"
      ]
     },
     "execution_count": 26,
     "metadata": {},
     "output_type": "execute_result"
    }
   ],
   "source": [
    "civic = Car(mpg=32, gallons=9, maker=\"honda\")\n",
    "civic.max_travel(1.0)"
   ]
  },
  {
   "cell_type": "markdown",
   "metadata": {},
   "source": [
    "## Control Flow"
   ]
  },
  {
   "cell_type": "code",
   "execution_count": 7,
   "metadata": {},
   "outputs": [
    {
     "name": "stdout",
     "output_type": "stream",
     "text": [
      "var is above 1\n"
     ]
    }
   ],
   "source": [
    "#====== basic if ======#\n",
    "if i == 1:\n",
    "    print(\"var is 1\")\n",
    "elif i > 1:\n",
    "    print(\"var is above 1\")\n",
    "else:\n",
    "    print(\"var is less than 1\")"
   ]
  },
  {
   "cell_type": "code",
   "execution_count": 9,
   "metadata": {},
   "outputs": [
    {
     "name": "stdout",
     "output_type": "stream",
     "text": [
      "var is 5\n"
     ]
    }
   ],
   "source": [
    "#====== logic operators (or, and) ======#\n",
    "if (i > 1 and i < 10) or i == 15:\n",
    "    print(\"var is 5\")"
   ]
  },
  {
   "cell_type": "code",
   "execution_count": 22,
   "metadata": {},
   "outputs": [
    {
     "name": "stdout",
     "output_type": "stream",
     "text": [
      "1. Found and error: unsupported operand type(s) for ** or pow(): 'str' and 'int'\n",
      "2. Completed operation\n"
     ]
    }
   ],
   "source": [
    "#====== try, catch ======#\n",
    "try:\n",
    "    func(\"i\")\n",
    "except Exception as error:\n",
    "    print(f\"1. Found and error: {error}\")\n",
    "finally:\n",
    "    print(\"2. Completed operation\")"
   ]
  },
  {
   "cell_type": "code",
   "execution_count": null,
   "metadata": {},
   "outputs": [],
   "source": []
  },
  {
   "cell_type": "markdown",
   "metadata": {},
   "source": [
    "## Loops & Iterators"
   ]
  },
  {
   "cell_type": "code",
   "execution_count": 11,
   "metadata": {},
   "outputs": [
    {
     "name": "stdout",
     "output_type": "stream",
     "text": [
      "0\n",
      "1\n",
      "2\n",
      "3\n",
      "4\n"
     ]
    }
   ],
   "source": [
    "#====== while loops ======#\n",
    "i = 0\n",
    "while i < 5:\n",
    "    print(i)\n",
    "    i += 1"
   ]
  },
  {
   "cell_type": "code",
   "execution_count": 27,
   "metadata": {},
   "outputs": [
    {
     "name": "stdout",
     "output_type": "stream",
     "text": [
      "1\n",
      "2\n",
      "3\n"
     ]
    }
   ],
   "source": [
    "#====== for each loops ======#\n",
    "for i in [1,2,3]:\n",
    "    print(i)"
   ]
  },
  {
   "cell_type": "code",
   "execution_count": 30,
   "metadata": {},
   "outputs": [
    {
     "name": "stdout",
     "output_type": "stream",
     "text": [
      "0\n",
      "1\n",
      "2\n"
     ]
    }
   ],
   "source": [
    "#====== generators ======#\n",
    "for i in range(3):\n",
    "    print(i)"
   ]
  },
  {
   "cell_type": "code",
   "execution_count": 49,
   "metadata": {},
   "outputs": [
    {
     "data": {
      "text/plain": [
       "range(0, 4)"
      ]
     },
     "execution_count": 49,
     "metadata": {},
     "output_type": "execute_result"
    }
   ],
   "source": [
    "range(4)    # not a list"
   ]
  },
  {
   "cell_type": "code",
   "execution_count": 50,
   "metadata": {},
   "outputs": [],
   "source": [
    "# Custom Generator\n",
    "def gen_fib(n, a=0, b=1, i=0):\n",
    "    while i < n:\n",
    "        yield a           # <--- return value and wait for next call\n",
    "        a, b = b, a+b\n",
    "        i += 1"
   ]
  },
  {
   "cell_type": "code",
   "execution_count": 51,
   "metadata": {},
   "outputs": [
    {
     "data": {
      "text/plain": [
       "<generator object gen_fib at 0x103847e60>"
      ]
     },
     "execution_count": 51,
     "metadata": {},
     "output_type": "execute_result"
    }
   ],
   "source": [
    "gen_fib(10)"
   ]
  },
  {
   "cell_type": "markdown",
   "metadata": {},
   "source": [
    "## Modules & Packages"
   ]
  },
  {
   "cell_type": "code",
   "execution_count": 18,
   "metadata": {},
   "outputs": [],
   "source": [
    "import numpy\n",
    "import numpy as np\n",
    "from numpy import zeros, ones    # <--- Prefered"
   ]
  }
 ],
 "metadata": {
  "kernelspec": {
   "display_name": "Python 3",
   "language": "python",
   "name": "python3"
  },
  "language_info": {
   "codemirror_mode": {
    "name": "ipython",
    "version": 3
   },
   "file_extension": ".py",
   "mimetype": "text/x-python",
   "name": "python",
   "nbconvert_exporter": "python",
   "pygments_lexer": "ipython3",
   "version": "3.6.7"
  }
 },
 "nbformat": 4,
 "nbformat_minor": 4
}
