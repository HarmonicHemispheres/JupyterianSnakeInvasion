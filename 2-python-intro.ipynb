{
 "cells": [
  {
   "cell_type": "markdown",
   "metadata": {},
   "source": [
    "# Intro To Python 3\n",
    "\n",
    "- to explore python in a coding environment, check out [repl.it](https://repl.it/languages/python3)\n",
    "- python reference material\n",
    "    - [cheat sheet](https://www.pythoncheatsheet.org/)\n",
    "    - [useful textbook](https://books.goalkicker.com/PythonBook/)\n",
    "    - [python docs](https://docs.python.org/3/)"
   ]
  },
  {
   "cell_type": "code",
   "execution_count": null,
   "metadata": {},
   "outputs": [],
   "source": [
    "#====== Printing To Console ======#\n",
    "print(\"wello horld\")"
   ]
  },
  {
   "cell_type": "markdown",
   "metadata": {},
   "source": [
    "## Variables"
   ]
  },
  {
   "cell_type": "code",
   "execution_count": null,
   "metadata": {},
   "outputs": [],
   "source": [
    "#====== Variables ======#\n",
    "# Numbers\n",
    "i = 7\n",
    "f = 6.5\n",
    "c = 5+5j\n",
    "c.real\n",
    "c.imag\n",
    "\n",
    "# Strings\n",
    "s = \"string\"\n",
    "fs = f'formated {s}'\n",
    "\n",
    "# List\n",
    "l = [1, 2, 3, \"str\"]\n",
    "l.append(1)\n",
    "l.index(1)\n",
    "l.pop()\n",
    "\n",
    "# Dictionary (aka hashtable)\n",
    "d = {\n",
    "    \"key\": \"value\", \n",
    "    \"key2\": [\"1\", 2, \"3\", 4]\n",
    "}\n",
    "d['a'] = 1\n",
    "d['b'] = 2\n",
    "d.keys()      # generator of ('a', 'b')\n",
    "d.values()    # generator of (1, 2)\n",
    "d.items()     # generator of (('a',1), ('b',2))\n",
    "del d['a']"
   ]
  },
  {
   "cell_type": "code",
   "execution_count": null,
   "metadata": {},
   "outputs": [],
   "source": [
    "### COOLNESS: tuple assignment ###\n",
    "a,b,c = 1,2,3"
   ]
  },
  {
   "cell_type": "markdown",
   "metadata": {},
   "source": [
    "# Functions and Classes"
   ]
  },
  {
   "cell_type": "code",
   "execution_count": null,
   "metadata": {},
   "outputs": [],
   "source": [
    "#====== functions ======#\n",
    "def func(x):\n",
    "    return x**2\n",
    "\n",
    "func(i)"
   ]
  },
  {
   "cell_type": "code",
   "execution_count": null,
   "metadata": {},
   "outputs": [],
   "source": [
    "#====== classes / objects ======#\n",
    "class Car:\n",
    "    def __init__(self, mpg, gallons, maker):\n",
    "        self.mpg = mpg\n",
    "        self.gallons = gallons\n",
    "        self.maker = maker\n",
    "        \n",
    "    def max_travel(self, perc_full):\n",
    "        return self.mpg * (self.gallons * perc_full)"
   ]
  },
  {
   "cell_type": "code",
   "execution_count": null,
   "metadata": {},
   "outputs": [],
   "source": [
    "civic = Car(mpg=32, gallons=9, maker=\"honda\")\n",
    "civic.max_travel(1.0)"
   ]
  },
  {
   "cell_type": "markdown",
   "metadata": {},
   "source": [
    "### Common Class Dunder Functions\n",
    "dunder (double underscore) functions are magic functions that provide predefined use cases for python objects that the the use can override.\n",
    "\n",
    "- `__init__` - initialize object\n",
    "- `__repr__` - printable __repr__esentation of the object\n",
    "- `__doc__` - the doc string for the object"
   ]
  },
  {
   "cell_type": "code",
   "execution_count": null,
   "metadata": {},
   "outputs": [],
   "source": [
    "class Car:\n",
    "    \"\"\"DOCS: This is a car from some maker\"\"\"\n",
    "    \n",
    "    def __init__(self, brand):\n",
    "        self.brand = brand\n",
    "        \n",
    "    def __repr__(self):\n",
    "        return f\"This car is a {self.brand}\"\n",
    "    \n",
    "#----------------------------------------------\n",
    "\n",
    "prius = Car(brand=\"toyota\")\n",
    "print(prius)\n",
    "print(prius.__doc__)"
   ]
  },
  {
   "cell_type": "markdown",
   "metadata": {},
   "source": [
    "## Control Flow"
   ]
  },
  {
   "cell_type": "code",
   "execution_count": null,
   "metadata": {},
   "outputs": [],
   "source": [
    "#====== basic if ======#\n",
    "if i == 1:\n",
    "    print(\"var is 1\")\n",
    "elif i > 1:\n",
    "    print(\"var is above 1\")\n",
    "else:\n",
    "    print(\"var is less than 1\")"
   ]
  },
  {
   "cell_type": "code",
   "execution_count": null,
   "metadata": {},
   "outputs": [],
   "source": [
    "#====== logic operators (or, and) ======#\n",
    "if (i > 1 and i < 10) or i == 15:\n",
    "    print(\"var is 5\")"
   ]
  },
  {
   "cell_type": "code",
   "execution_count": null,
   "metadata": {},
   "outputs": [],
   "source": [
    "#====== try, catch ======#\n",
    "try:\n",
    "    func(\"i\")\n",
    "except Exception as error:\n",
    "    print(f\"1. Found and error: {error}\")\n",
    "finally:\n",
    "    print(\"2. Completed operation\")"
   ]
  },
  {
   "cell_type": "markdown",
   "metadata": {},
   "source": [
    "## Loops & Iterators"
   ]
  },
  {
   "cell_type": "code",
   "execution_count": null,
   "metadata": {},
   "outputs": [],
   "source": [
    "#====== while loops ======#\n",
    "i = 0\n",
    "while i < 5:\n",
    "    print(i)\n",
    "    i += 1"
   ]
  },
  {
   "cell_type": "code",
   "execution_count": null,
   "metadata": {},
   "outputs": [],
   "source": [
    "#====== for each loops ======#\n",
    "for i in [1,2,3]:\n",
    "    print(i)"
   ]
  },
  {
   "cell_type": "code",
   "execution_count": null,
   "metadata": {},
   "outputs": [],
   "source": [
    "#====== generators ======#\n",
    "for i in range(3):\n",
    "    print(i)"
   ]
  },
  {
   "cell_type": "code",
   "execution_count": null,
   "metadata": {},
   "outputs": [],
   "source": [
    "range(4)    # not a list"
   ]
  },
  {
   "cell_type": "code",
   "execution_count": null,
   "metadata": {},
   "outputs": [],
   "source": [
    "# Custom Generator\n",
    "def gen_fib(n, a=0, b=1, i=0):\n",
    "    while i < n:\n",
    "        yield a           # <--- return value and wait for next call\n",
    "        a, b = b, a+b\n",
    "        i += 1"
   ]
  },
  {
   "cell_type": "code",
   "execution_count": null,
   "metadata": {},
   "outputs": [],
   "source": [
    "gen_fib(10)"
   ]
  },
  {
   "cell_type": "markdown",
   "metadata": {},
   "source": [
    "## Modules & Packages"
   ]
  },
  {
   "cell_type": "code",
   "execution_count": null,
   "metadata": {},
   "outputs": [],
   "source": [
    "import numpy\n",
    "import numpy as np\n",
    "from numpy import zeros, ones    # <--- Prefered"
   ]
  }
 ],
 "metadata": {
  "kernelspec": {
   "display_name": "Python 3",
   "language": "python",
   "name": "python3"
  },
  "language_info": {
   "codemirror_mode": {
    "name": "ipython",
    "version": 3
   },
   "file_extension": ".py",
   "mimetype": "text/x-python",
   "name": "python",
   "nbconvert_exporter": "python",
   "pygments_lexer": "ipython3",
   "version": "3.7.3"
  }
 },
 "nbformat": 4,
 "nbformat_minor": 4
}
