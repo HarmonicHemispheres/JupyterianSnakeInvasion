{
 "cells": [
  {
   "cell_type": "markdown",
   "metadata": {},
   "source": [
    "# Python System Utilities\n",
    "\n",
    "**Goals**\n",
    "- `os` module\n",
    "- `sys` module\n",
    "- `pathlib` module"
   ]
  },
  {
   "cell_type": "markdown",
   "metadata": {},
   "source": [
    "# Monitoring with the `os` Module\n",
    "For more detailed system stats look at `psutil`"
   ]
  },
  {
   "cell_type": "code",
   "execution_count": null,
   "metadata": {},
   "outputs": [],
   "source": [
    "import os"
   ]
  },
  {
   "cell_type": "code",
   "execution_count": null,
   "metadata": {},
   "outputs": [],
   "source": [
    "#====== System Monitoring ======#\n",
    "print(f\"cores: {os.cpu_count()}\")\n",
    "print(f\"dir: {os.curdir}\")\n",
    "print(f\"cwd: {os.getcwd()}\")\n",
    "print(fcurrent process group ids: {os.getgroups()}\")"
   ]
  },
  {
   "cell_type": "markdown",
   "metadata": {},
   "source": [
    "# Paths with `pathlib` Module "
   ]
  },
  {
   "cell_type": "code",
   "execution_count": null,
   "metadata": {},
   "outputs": [],
   "source": [
    "#====== Filepath Manipulation ======#\n",
    "from pathlib import Path\n",
    "\n",
    "# cross platform path\n",
    "cwd = os.getcwd()\n",
    "path = Path(cwd)\n",
    "print(str(path))"
   ]
  },
  {
   "cell_type": "markdown",
   "metadata": {},
   "source": [
    "# Navigating Filesystems"
   ]
  },
  {
   "cell_type": "code",
   "execution_count": null,
   "metadata": {},
   "outputs": [],
   "source": [
    "def recurse_path(cwd, ignores={}):\n",
    "    for path in os.listdir(cwd):\n",
    "        p = Path(cwd) / path\n",
    "        \n",
    "        # skip any file that matches the ignores patterns\n",
    "        if any([term in str(p) for term in ignores]):\n",
    "            continue\n",
    "            \n",
    "        # recurse directories for sub-paths\n",
    "        if os.path.isdir(p):\n",
    "            print(f\"D: {p}\")\n",
    "            recurse_path(p, ignores=ignores)\n",
    "        \n",
    "        # simply display files' paths \n",
    "        elif os.path.isfile(p):\n",
    "            print(f\"F: {p}\")\n",
    "\n",
    "recurse_path(Path(os.getcwd()), ignores={\".git\", \".ipynb\"})"
   ]
  },
  {
   "cell_type": "markdown",
   "metadata": {},
   "source": [
    "# The `sys` Module"
   ]
  },
  {
   "cell_type": "code",
   "execution_count": null,
   "metadata": {},
   "outputs": [],
   "source": [
    "#====== Command Line Arguments ======#\n",
    "import sys\n",
    "print(sys.argv)"
   ]
  },
  {
   "cell_type": "code",
   "execution_count": null,
   "metadata": {},
   "outputs": [],
   "source": [
    "#====== Get Operating System Type ======#\n",
    "sys.platform"
   ]
  },
  {
   "cell_type": "code",
   "execution_count": null,
   "metadata": {},
   "outputs": [],
   "source": [
    "#====== Get Recursion Limit ======#\n",
    "sys.getrecursionlimit()"
   ]
  }
 ],
 "metadata": {
  "kernelspec": {
   "display_name": "Python 3",
   "language": "python",
   "name": "python3"
  },
  "language_info": {
   "codemirror_mode": {
    "name": "ipython",
    "version": 3
   },
   "file_extension": ".py",
   "mimetype": "text/x-python",
   "name": "python",
   "nbconvert_exporter": "python",
   "pygments_lexer": "ipython3",
   "version": "3.7.3"
  }
 },
 "nbformat": 4,
 "nbformat_minor": 2
}
