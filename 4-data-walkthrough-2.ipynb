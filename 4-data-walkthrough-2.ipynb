{
 "cells": [
  {
   "cell_type": "markdown",
   "metadata": {},
   "source": [
    "# Simple Machine Learning\n",
    "for more information, https://www.kaggle.com/ronitf/heart-disease-uci/"
   ]
  },
  {
   "cell_type": "markdown",
   "metadata": {},
   "source": [
    "# Import Dependancies"
   ]
  },
  {
   "cell_type": "code",
   "execution_count": null,
   "metadata": {},
   "outputs": [],
   "source": [
    "import pandas as pd\n",
    "import matplotlib.pyplot as plt\n",
    "import ipywidgets as widgets\n",
    "from ipywidgets import interact\n",
    "from IPython.display import display, HTML"
   ]
  },
  {
   "cell_type": "code",
   "execution_count": null,
   "metadata": {},
   "outputs": [],
   "source": [
    "df_heart = pd.read_csv(\"data/heart.csv\")"
   ]
  },
  {
   "cell_type": "code",
   "execution_count": null,
   "metadata": {},
   "outputs": [],
   "source": [
    "df_heart.dtypes"
   ]
  },
  {
   "cell_type": "code",
   "execution_count": null,
   "metadata": {},
   "outputs": [],
   "source": [
    "df_heart.head(3)"
   ]
  },
  {
   "cell_type": "code",
   "execution_count": null,
   "metadata": {},
   "outputs": [],
   "source": [
    "df_heart.hist(['chol','age', 'cp'])"
   ]
  },
  {
   "cell_type": "code",
   "execution_count": null,
   "metadata": {},
   "outputs": [],
   "source": [
    "wgt_col_select_x = widgets.Dropdown(\n",
    "    options=list(df_heart.columns),\n",
    "    value=df_heart.columns[0],\n",
    "    description='Column X',\n",
    "    disabled=False,\n",
    ")\n",
    "wgt_col_select_y = widgets.Dropdown(\n",
    "    options=list(df_heart.columns),\n",
    "    value=df_heart.columns[1],\n",
    "    description='Column Y',\n",
    "    disabled=False,\n",
    ")\n",
    "\n",
    "\n",
    "ui_3 = widgets.HBox([wgt_col_select_x, wgt_col_select_y], layout=box_layout)\n",
    "\n",
    "def show_lmplot(x, y):\n",
    "    ax = sns.lmplot(x=x, y=y, data=df_heart)\n",
    "    \n",
    "# setup interactive widgets\n",
    "out_3 = widgets.interactive_output(\n",
    "    show_lmplot, \n",
    "    {\n",
    "        'x': wgt_col_select_x,\n",
    "        'y': wgt_col_select_y\n",
    "    }\n",
    ")\n",
    "\n",
    "# show widgets\n",
    "display(ui_3, out_3)"
   ]
  },
  {
   "cell_type": "code",
   "execution_count": null,
   "metadata": {},
   "outputs": [],
   "source": [
    "from sklearn.tree import DecisionTreeClassifier\n",
    "from sklearn.model_selection import train_test_split\n",
    "from sklearn import metrics\n",
    "from sklearn.tree import export_graphviz\n",
    "from sklearn.externals.six import StringIO  \n",
    "from IPython.display import Image  \n",
    "\n",
    "\"\"\"\n",
    "NOTE: If using conda, install graphviz with, 'conda install graphviz'\n",
    "\"\"\"\n",
    "import pydotplus"
   ]
  },
  {
   "cell_type": "code",
   "execution_count": null,
   "metadata": {},
   "outputs": [],
   "source": [
    "def train(features):\n",
    "    model = DecisionTreeClassifier(max_depth=4)\n",
    "\n",
    "    # get columns\n",
    "    y, x = df_heart['target'], df_heart[features]\n",
    "\n",
    "    X_train, X_test, y_train, y_test = train_test_split(x, y, random_state=1)\n",
    "    # y_train\n",
    "    clf = model.fit(X_train, y_train)\n",
    "    \n",
    "    y_predicted = model.predict(X_test)\n",
    "    \n",
    "    # Model Accuracy, how often is the classifier correct?\n",
    "    return (metrics.accuracy_score(y_test, y_predicted), clf)"
   ]
  },
  {
   "cell_type": "markdown",
   "metadata": {},
   "source": [
    "# Explore Model Accuracy"
   ]
  },
  {
   "cell_type": "code",
   "execution_count": null,
   "metadata": {},
   "outputs": [],
   "source": [
    "features = ['sex', 'chol', 'ca', 'thal', 'slope']\n",
    "results = train(features)\n",
    "print(f\"Accuracy: {results[0]}\")\n",
    "\n",
    "print(\"Feature Importance\")\n",
    "for i in range(len(results[1].feature_importances_)):\n",
    "    feat_imp = results[1].feature_importances_[i]\n",
    "    feat = features[i]\n",
    "    print(\"{:>8} - {:>4}\".format(feat, feat_imp))"
   ]
  },
  {
   "cell_type": "markdown",
   "metadata": {},
   "source": [
    "# Plot Decision Tree"
   ]
  },
  {
   "cell_type": "code",
   "execution_count": null,
   "metadata": {},
   "outputs": [],
   "source": [
    "from sklearn.externals.six import StringIO  \n",
    "from IPython.display import Image  \n",
    "from sklearn.tree import export_graphviz\n",
    "import pydotplus\n",
    "\n",
    "dot_data = StringIO()\n",
    "export_graphviz(results[1], \n",
    "                out_file=dot_data,  \n",
    "                filled=True, \n",
    "                rounded=True,\n",
    "                special_characters=True, \n",
    "                feature_names=features, \n",
    "                class_names=['0','1']\n",
    "               )\n",
    "graph = pydotplus.graph_from_dot_data(dot_data.getvalue())  \n",
    "graph.write_png('heart_disease.png')\n",
    "Image(graph.create_png())"
   ]
  }
 ],
 "metadata": {
  "kernelspec": {
   "display_name": "Python 3",
   "language": "python",
   "name": "python3"
  },
  "language_info": {
   "codemirror_mode": {
    "name": "ipython",
    "version": 3
   },
   "file_extension": ".py",
   "mimetype": "text/x-python",
   "name": "python",
   "nbconvert_exporter": "python",
   "pygments_lexer": "ipython3",
   "version": "3.7.3"
  }
 },
 "nbformat": 4,
 "nbformat_minor": 4
}
