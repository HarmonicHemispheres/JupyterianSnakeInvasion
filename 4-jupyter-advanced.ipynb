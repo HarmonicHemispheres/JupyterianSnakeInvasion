{
 "cells": [
  {
   "cell_type": "markdown",
   "metadata": {
    "slideshow": {
     "slide_type": "slide"
    }
   },
   "source": [
    "## Jupyter Showcase"
   ]
  },
  {
   "cell_type": "markdown",
   "metadata": {},
   "source": [
    "## Types of Notebooks\n",
    "- Founders\n",
    "    - [Mathematica](https://www.wolfram.com/mathematica/)\n",
    "    - [Matlab](https://www.mathworks.com/products/matlab.html)\n",
    "- Second Wave\n",
    "    - [Sagemath](http://www.sagemath.org/) (used in [cocalc](https://cocalc.com/?utm_source=sagemath.org&utm_medium=landingpage))\n",
    "    - [jupyter](https://jupyter.org/)\n",
    "- modern contenders\n",
    "    - [zepplin notebooks](https://zeppelin.apache.org/)\n",
    "    - [beakerX](http://beakerx.com/) jupyter extension\n",
    "    - [Hydrogen](https://atom.io/packages/hydrogen)\n",
    "    "
   ]
  },
  {
   "cell_type": "markdown",
   "metadata": {},
   "source": [
    "## Whos Using?\n",
    "- science\n",
    "- engineering\n",
    "- reporting"
   ]
  },
  {
   "cell_type": "markdown",
   "metadata": {
    "slideshow": {
     "slide_type": "slide"
    }
   },
   "source": [
    "## 3D Visuals\n",
    "because of interoperability, jupyter has great tools for 3d visualization.\n",
    "\n",
    "### Tools\n",
    "IPyVolume\n",
    "- https://ipyvolume.readthedocs.io/en/latest/?badge=latest\n",
    "- https://github.com/maartenbreddels/ipyvolume\n"
   ]
  },
  {
   "cell_type": "code",
   "execution_count": 43,
   "metadata": {},
   "outputs": [],
   "source": [
    "import ipyvolume as ipv\n",
    "import numpy as np\n",
    "import random"
   ]
  },
  {
   "cell_type": "code",
   "execution_count": 70,
   "metadata": {},
   "outputs": [],
   "source": [
    "x, y, z = np.random.random((3, 10000))\n",
    "\n",
    "chance_push = 0.2\n",
    "\n",
    "for i in range(2,len(x)):\n",
    "    \n",
    "    roll = random.random()\n",
    "    if roll > chance_push:\n",
    "        y[i] = random.randint(i,i*3)\n",
    "        x[i] = random.randint(i,i+5)\n",
    "\n",
    "    roll = random.random()\n",
    "    if roll > chance_push:\n",
    "        z[i] = random.randint(i,i*2)\n",
    "    "
   ]
  },
  {
   "cell_type": "code",
   "execution_count": 73,
   "metadata": {},
   "outputs": [
    {
     "data": {
      "application/vnd.jupyter.widget-view+json": {
       "model_id": "7fcc10c4da7143d191104a3747830352",
       "version_major": 2,
       "version_minor": 0
      },
      "text/plain": [
       "VBox(children=(Figure(camera=PerspectiveCamera(fov=46.0, position=(0.0, 0.0, 2.0), quaternion=(0.0, 0.0, 0.0, …"
      ]
     },
     "metadata": {},
     "output_type": "display_data"
    }
   ],
   "source": [
    "ipv.quickscatter(x, y, z, size=1, marker=\"sphere\")"
   ]
  },
  {
   "cell_type": "markdown",
   "metadata": {},
   "source": [
    "## "
   ]
  }
 ],
 "metadata": {
  "kernelspec": {
   "display_name": "Python 3",
   "language": "python",
   "name": "python3"
  },
  "language_info": {
   "codemirror_mode": {
    "name": "ipython",
    "version": 3
   },
   "file_extension": ".py",
   "mimetype": "text/x-python",
   "name": "python",
   "nbconvert_exporter": "python",
   "pygments_lexer": "ipython3",
   "version": "3.7.3"
  }
 },
 "nbformat": 4,
 "nbformat_minor": 4
}
