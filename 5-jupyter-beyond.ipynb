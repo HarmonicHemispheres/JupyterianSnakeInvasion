{
 "cells": [
  {
   "cell_type": "markdown",
   "metadata": {
    "slideshow": {
     "slide_type": "slide"
    }
   },
   "source": [
    "# Jupyter Beyond\n",
    "Unique and creative extensions, implementations and uses for Jupyter notebooks. \n",
    "<hr>"
   ]
  },
  {
   "cell_type": "markdown",
   "metadata": {},
   "source": [
    "## EXTENSIONS... The Basis\n",
    "https://jupyter-contrib-nbextensions.readthedocs.io/en/latest/"
   ]
  },
  {
   "cell_type": "markdown",
   "metadata": {},
   "source": [
    "## Notifications!\n",
    "> **TOOL:** https://github.com/ShopRunner/jupyter-notify\n",
    "\n",
    "<img src=\"https://camo.githubusercontent.com/a289a4def59aed9d6e557b89b4686b4fa85f3a7a/68747470733a2f2f73332e616d617a6f6e6177732e636f6d2f73686f7072756e6e65722d6769746875622d6c6f676f2f6a7570797465725f6368726f6d652e706e67\" style=\"width: 80%\"/>"
   ]
  },
  {
   "cell_type": "markdown",
   "metadata": {
    "slideshow": {
     "slide_type": "slide"
    }
   },
   "source": [
    "## 3D Visuals\n",
    "\n",
    "> **TOOL:** To install see `ipyvolume`, https://ipyvolume.readthedocs.io/en/latest/install.html "
   ]
  },
  {
   "cell_type": "code",
   "execution_count": 1,
   "metadata": {},
   "outputs": [],
   "source": [
    "import ipyvolume as ipv\n",
    "import numpy as np\n",
    "import random"
   ]
  },
  {
   "cell_type": "code",
   "execution_count": 2,
   "metadata": {},
   "outputs": [],
   "source": [
    "x, y, z = np.random.random((3, 10000))\n",
    "\n",
    "chance_push = 0.2\n",
    "\n",
    "for i in range(2,len(x)):\n",
    "    \n",
    "    roll = random.random()\n",
    "    if roll > chance_push:\n",
    "        y[i] = random.randint(i,i*3)\n",
    "        x[i] = random.randint(i,i+5)\n",
    "\n",
    "    roll = random.random()\n",
    "    if roll > chance_push:\n",
    "        z[i] = random.randint(i,i*2)\n",
    "    "
   ]
  },
  {
   "cell_type": "code",
   "execution_count": 3,
   "metadata": {},
   "outputs": [
    {
     "data": {
      "application/vnd.jupyter.widget-view+json": {
       "model_id": "78a2bb67a04a46229afe09c51cad8f76",
       "version_major": 2,
       "version_minor": 0
      },
      "text/plain": [
       "VBox(children=(Figure(camera=PerspectiveCamera(fov=46.0, position=(0.0, 0.0, 2.0), quaternion=(0.0, 0.0, 0.0, …"
      ]
     },
     "metadata": {},
     "output_type": "display_data"
    }
   ],
   "source": [
    "ipv.quickscatter(x, y, z, size=1, marker=\"sphere\")"
   ]
  },
  {
   "cell_type": "markdown",
   "metadata": {},
   "source": [
    "# Inline Spreadsheets\n",
    "\n",
    "> **TOOL:** [ipysheet](https://github.com/QuantStack/ipysheet), see [installation](https://ipysheet.readthedocs.io/en/latest/#Installation) to get started"
   ]
  },
  {
   "cell_type": "code",
   "execution_count": 4,
   "metadata": {},
   "outputs": [
    {
     "data": {
      "application/vnd.jupyter.widget-view+json": {
       "model_id": "445ac2ab5a9b47bf8ecf2808365d1bdf",
       "version_major": 2,
       "version_minor": 0
      },
      "text/plain": [
       "Sheet(cells=(Cell(column_end=0, column_start=0, row_end=0, row_start=0, type='text', value='Hello'), Cell(colu…"
      ]
     },
     "metadata": {},
     "output_type": "display_data"
    }
   ],
   "source": [
    "import ipysheet\n",
    "sheet = ipysheet.sheet(rows=3, columns=4)\n",
    "cell1 = ipysheet.cell(0, 0, 'Hello')\n",
    "cell2 = ipysheet.cell(2, 0, 'World')\n",
    "cell_value = ipysheet.cell(2,2, 42.)\n",
    "sheet"
   ]
  },
  {
   "cell_type": "markdown",
   "metadata": {},
   "source": [
    "# Jupyter Lab (a workspace for data)\n",
    "\n",
    "> **TOOL:** [Jupyter Lab](https://jupyterlab.readthedocs.io/en/stable/)\n",
    "\n",
    "<img src=\"https://jupyterlab.readthedocs.io/en/stable/_images/jupyterlab.png\" style=\"width:74%\"/>\n"
   ]
  },
  {
   "cell_type": "markdown",
   "metadata": {},
   "source": [
    "# Parameterized Notebooks for Automation\n",
    "set parameters for a notebook that can be automated from the command line. Concept used by Netflix:\n",
    "- [Beyond Interactive: Notebook Innovation at Netflix](https://medium.com/netflix-techblog/notebook-innovation-591ee3221233)\n",
    "- [Part 2: Scheduling Notebooks at Netflix](https://medium.com/netflix-techblog/scheduling-notebooks-348e6c14cfd6)\n",
    "\n",
    "> **TOOL:** [papermill](https://github.com/nteract/papermill)\n",
    "\n",
    "\n",
    "### Setup Parameters\n",
    "<img src=\"https://raw.githubusercontent.com/nteract/papermill/master/docs/img/enable_parameters.gif\" />\n",
    "\n",
    "\n",
    "### Then Run Notebook With Values\n",
    "```python\n",
    "import papermill as pm\n",
    "\n",
    "pm.execute_notebook(\n",
    "   'path/to/input.ipynb',\n",
    "   'path/to/output.ipynb',\n",
    "   parameters = dict(alpha=0.6, ratio=0.1)\n",
    ")\n",
    "```"
   ]
  },
  {
   "cell_type": "markdown",
   "metadata": {},
   "source": [
    "# Reveal.JS Slides from Notebook\n",
    "Turn your jupyter notebook into a slide show based on `reveal.js`\n",
    "\n",
    "> **TOOL:** [reveal.js](https://revealjs.com/#/)\n",
    "> **RESOURCE:** [jupyter docs for exporting to reveal.js]()"
   ]
  },
  {
   "cell_type": "markdown",
   "metadata": {},
   "source": [
    "# Multiple Programming Languages\n",
    "Python is not the only language kernel available in Jupyter.\n",
    "\n",
    "https://github.com/jupyter/jupyter/wiki/Jupyter-kernels"
   ]
  },
  {
   "cell_type": "markdown",
   "metadata": {},
   "source": [
    "# Jupyter Notebooks On the Cloud\n",
    "- [Binder](https://mybinder.org/)\n",
    "- [Azure Notebooks](https://notebooks.azure.com/)"
   ]
  },
  {
   "cell_type": "markdown",
   "metadata": {},
   "source": [
    "# Non-Jupyter Notebooks\n",
    "- [Sagemath](http://www.sagemath.org/) (used in [cocalc](https://cocalc.com/?utm_source=sagemath.org&utm_medium=landingpage))\n",
    "- [Apache Zeppelin Notebooks](https://zeppelin.apache.org)\n",
    "- [BeakerX](http://beakerx.com/) - jupyter extension\n",
    "- [Hydrogen](https://atom.io/packages/hydrogen)\n",
    "- [Next Journal](https://nextjournal.com/)\n",
    "- [Jetbrains Datalore](https://datalore.io/)"
   ]
  }
 ],
 "metadata": {
  "kernelspec": {
   "display_name": "Python 3",
   "language": "python",
   "name": "python3"
  },
  "language_info": {
   "codemirror_mode": {
    "name": "ipython",
    "version": 3
   },
   "file_extension": ".py",
   "mimetype": "text/x-python",
   "name": "python",
   "nbconvert_exporter": "python",
   "pygments_lexer": "ipython3",
   "version": "3.7.3"
  }
 },
 "nbformat": 4,
 "nbformat_minor": 4
}
