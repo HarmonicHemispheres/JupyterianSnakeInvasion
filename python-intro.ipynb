{
 "cells": [
  {
   "cell_type": "markdown",
   "metadata": {},
   "source": [
    "# Intro To Python\n"
   ]
  },
  {
   "cell_type": "code",
   "execution_count": 1,
   "metadata": {},
   "outputs": [
    {
     "name": "stdout",
     "output_type": "stream",
     "text": [
      "wello horld\n"
     ]
    }
   ],
   "source": [
    "###---------------------###\n",
    "### Printing To Console ###\n",
    "###---------------------###\n",
    "print(\"wello horld\")"
   ]
  },
  {
   "cell_type": "markdown",
   "metadata": {},
   "source": [
    "## Variables"
   ]
  },
  {
   "cell_type": "code",
   "execution_count": 17,
   "metadata": {},
   "outputs": [],
   "source": [
    "#====== Variables ======#\n",
    "i = 7\n",
    "\n",
    "s = \"string\"\n",
    "fs = f'formated {s}'\n",
    "\n",
    "l = [1, 2, 3, \"str\"]\n",
    "\n",
    "d = {\n",
    "    \"key\": \"value\", \n",
    "    \"key2\": [\"1\", 2, \"3\", 4]\n",
    "}    "
   ]
  },
  {
   "cell_type": "code",
   "execution_count": 19,
   "metadata": {},
   "outputs": [
    {
     "data": {
      "text/plain": [
       "49"
      ]
     },
     "execution_count": 19,
     "metadata": {},
     "output_type": "execute_result"
    }
   ],
   "source": [
    "#====== functions ======#\n",
    "def func(x):\n",
    "    return x**2\n",
    "\n",
    "func(var)"
   ]
  },
  {
   "cell_type": "code",
   "execution_count": 20,
   "metadata": {},
   "outputs": [
    {
     "data": {
      "text/plain": [
       "288.0"
      ]
     },
     "execution_count": 20,
     "metadata": {},
     "output_type": "execute_result"
    }
   ],
   "source": [
    "#====== classes ======#\n",
    "class Car:\n",
    "    def __init__(self, mpg, gallons, maker):\n",
    "        self.mpg = mpg\n",
    "        self.gallons = gallons\n",
    "        self.maker = maker\n",
    "        \n",
    "    def max_travel(self, perc_full):\n",
    "        return self.mpg * (self.gallons * perc_full)\n",
    "\n",
    "civic = Car(mpg=32, gallons=9, maker=\"honda\")\n",
    "civic.max_travel(1.0)"
   ]
  },
  {
   "cell_type": "markdown",
   "metadata": {},
   "source": [
    "## Control Flow"
   ]
  },
  {
   "cell_type": "code",
   "execution_count": 5,
   "metadata": {},
   "outputs": [
    {
     "name": "stdout",
     "output_type": "stream",
     "text": [
      "var is above 1\n"
     ]
    }
   ],
   "source": [
    "#====== basic if ======#\n",
    "if var == 1:\n",
    "    print(\"var is 1\")\n",
    "elif var > 1:\n",
    "    print(\"var is above 1\")\n",
    "else:\n",
    "    print(\"var is less than 1\")"
   ]
  },
  {
   "cell_type": "code",
   "execution_count": 7,
   "metadata": {},
   "outputs": [
    {
     "name": "stdout",
     "output_type": "stream",
     "text": [
      "var is 5\n"
     ]
    }
   ],
   "source": [
    "#====== logic operators (or, and) ======#\n",
    "if (var > 1 and var < 10) or var == 15:\n",
    "    print(\"var is 5\")"
   ]
  },
  {
   "cell_type": "code",
   "execution_count": 9,
   "metadata": {},
   "outputs": [
    {
     "name": "stdout",
     "output_type": "stream",
     "text": [
      "1. Found and error: unsupported operand type(s) for ** or pow(): 'str' and 'int'\n",
      "2. Completed operation\n"
     ]
    }
   ],
   "source": [
    "#====== try, catch ======#\n",
    "try:\n",
    "    func(\"i\")\n",
    "except Exception as error:\n",
    "    print(f\"1. Found and error: {error}\")\n",
    "finally:\n",
    "    print(\"2. Completed operation\")"
   ]
  },
  {
   "cell_type": "markdown",
   "metadata": {},
   "source": [
    "## Loops"
   ]
  },
  {
   "cell_type": "code",
   "execution_count": 14,
   "metadata": {},
   "outputs": [
    {
     "name": "stdout",
     "output_type": "stream",
     "text": [
      "0\n",
      "1\n",
      "2\n",
      "3\n",
      "4\n"
     ]
    }
   ],
   "source": [
    "#====== while loops ======#\n",
    "i = 0\n",
    "while i < 5:\n",
    "    print(i)\n",
    "    i += 1"
   ]
  },
  {
   "cell_type": "code",
   "execution_count": 22,
   "metadata": {},
   "outputs": [
    {
     "name": "stdout",
     "output_type": "stream",
     "text": [
      "0\n",
      "1\n",
      "2\n",
      "3\n",
      "4\n",
      "\n",
      "\n",
      "\n",
      "1\n",
      "2\n",
      "3\n"
     ]
    }
   ],
   "source": [
    "#====== for each loops ======#\n",
    "for i in range(5):\n",
    "    print(i)\n",
    "    \n",
    "print(\"\\n\\n\")\n",
    "\n",
    "for i in [1,2,3]:\n",
    "    print(i)"
   ]
  },
  {
   "cell_type": "markdown",
   "metadata": {},
   "source": [
    "## Lists"
   ]
  },
  {
   "cell_type": "code",
   "execution_count": 24,
   "metadata": {},
   "outputs": [
    {
     "data": {
      "text/plain": [
       "1"
      ]
     },
     "execution_count": 24,
     "metadata": {},
     "output_type": "execute_result"
    }
   ],
   "source": [
    "l = []\n",
    "l.append(1)\n",
    "l.index(1)\n",
    "l.pop()"
   ]
  },
  {
   "cell_type": "markdown",
   "metadata": {},
   "source": [
    "## Dictionaries"
   ]
  },
  {
   "cell_type": "code",
   "execution_count": 30,
   "metadata": {},
   "outputs": [],
   "source": [
    "d = {}\n",
    "d['key'] = 1\n",
    "d.keys()\n",
    "d.values()\n",
    "d.items()\n",
    "del d['key']"
   ]
  },
  {
   "cell_type": "markdown",
   "metadata": {},
   "source": [
    "## Modules & Packages"
   ]
  },
  {
   "cell_type": "code",
   "execution_count": null,
   "metadata": {},
   "outputs": [],
   "source": [
    "import numpy\n",
    "import numpy as np\n",
    "from numpy import arrange\n",
    "from numpy import arrange, ones"
   ]
  }
 ],
 "metadata": {
  "kernelspec": {
   "display_name": "Python 3",
   "language": "python",
   "name": "python3"
  },
  "language_info": {
   "codemirror_mode": {
    "name": "ipython",
    "version": 3
   },
   "file_extension": ".py",
   "mimetype": "text/x-python",
   "name": "python",
   "nbconvert_exporter": "python",
   "pygments_lexer": "ipython3",
   "version": "3.6.8"
  }
 },
 "nbformat": 4,
 "nbformat_minor": 2
}
